{
 "cells": [
  {
   "cell_type": "markdown",
   "id": "162c75d3-359a-4b48-84e1-b4abb7ea4acf",
   "metadata": {},
   "source": [
    "Data Science Tools and Ecosystem\n"
   ]
  },
  {
   "cell_type": "markdown",
   "id": "87c1bffd-3d94-4de9-811e-9dade3822386",
   "metadata": {},
   "source": [
    "In this notebook, Data Science Tools and Ecosystem are summarized."
   ]
  },
  {
   "cell_type": "markdown",
   "id": "728df8f9-97b3-4173-8815-33ef7b328adb",
   "metadata": {},
   "source": [
    "**Objectives:**\n",
    "\n",
    "- popular languages for Data Science.\n",
    "- used libraries.\n",
    "- data science tools.\n",
    "\n"
   ]
  },
  {
   "cell_type": "markdown",
   "id": "d81504bb-61a3-4184-8ece-1b58655735ce",
   "metadata": {},
   "source": [
    "Some of the popular languages that Data Scientists use are:\n",
    "* R\n",
    "* python\n",
    "* java"
   ]
  },
  {
   "cell_type": "markdown",
   "id": "a7f7092e-641a-4b18-8b77-6457249dcbc9",
   "metadata": {},
   "source": [
    "Some of the commonly used libraries used by Data Scientists include:\n",
    "* NumPy\n",
    "* Pandas\n",
    "* TensorFlow"
   ]
  },
  {
   "cell_type": "markdown",
   "id": "fb74b323-43a7-4a78-bdc9-5e0014b84493",
   "metadata": {},
   "source": [
    "|Data Science Tools|\n",
    "|------------------|\n",
    "|Jupyter Notebook|\n",
    "|RStudio |\n",
    "|Apache Zeppelin|"
   ]
  },
  {
   "cell_type": "markdown",
   "id": "ef2a5e3b-e750-455a-9a4a-c89a67b8aff3",
   "metadata": {},
   "source": [
    "Below are a few examples of evaluating arithmetic expressions in Python"
   ]
  },
  {
   "cell_type": "code",
   "execution_count": 1,
   "id": "625488d5-eb3e-424a-9656-5e18b6bf0583",
   "metadata": {
    "tags": []
   },
   "outputs": [
    {
     "data": {
      "text/plain": [
       "17"
      ]
     },
     "execution_count": 1,
     "metadata": {},
     "output_type": "execute_result"
    }
   ],
   "source": [
    "(3*4)+5\n"
   ]
  },
  {
   "cell_type": "code",
   "execution_count": 2,
   "id": "e7a272a7-c319-4913-960e-86c7bac86f78",
   "metadata": {
    "tags": []
   },
   "outputs": [
    {
     "name": "stdout",
     "output_type": "stream",
     "text": [
      "3.3333333333333335\n"
     ]
    }
   ],
   "source": [
    "#This will convert 200 minutes to hours by diving by 60\n",
    "minutes = 200\n",
    "hours = minutes / 60\n",
    "print(hours)\n"
   ]
  },
  {
   "cell_type": "markdown",
   "id": "6e6a3895-e6ce-4a00-8ac3-a83c42705c2e",
   "metadata": {},
   "source": [
    "## Author\n",
    "Marcello\n"
   ]
  },
  {
   "cell_type": "code",
   "execution_count": null,
   "id": "5beb3165-0a08-43bd-9406-3ac1608f373f",
   "metadata": {},
   "outputs": [],
   "source": []
  }
 ],
 "metadata": {
  "kernelspec": {
   "display_name": "Python",
   "language": "python",
   "name": "conda-env-python-py"
  },
  "language_info": {
   "codemirror_mode": {
    "name": "ipython",
    "version": 3
   },
   "file_extension": ".py",
   "mimetype": "text/x-python",
   "name": "python",
   "nbconvert_exporter": "python",
   "pygments_lexer": "ipython3",
   "version": "3.7.12"
  }
 },
 "nbformat": 4,
 "nbformat_minor": 5
}
